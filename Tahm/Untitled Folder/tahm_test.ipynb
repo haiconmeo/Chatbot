{
 "cells": [
  {
   "cell_type": "code",
   "execution_count": 1,
   "metadata": {},
   "outputs": [
    {
     "name": "stderr",
     "output_type": "stream",
     "text": [
      "c:\\users\\hoang\\appdata\\local\\programs\\python\\python36\\lib\\site-packages\\tensorflow\\python\\framework\\dtypes.py:469: FutureWarning: Passing (type, 1) or '1type' as a synonym of type is deprecated; in a future version of numpy, it will be understood as (type, (1,)) / '(1,)type'.\n",
      "  _np_qint8 = np.dtype([(\"qint8\", np.int8, 1)])\n",
      "c:\\users\\hoang\\appdata\\local\\programs\\python\\python36\\lib\\site-packages\\tensorflow\\python\\framework\\dtypes.py:470: FutureWarning: Passing (type, 1) or '1type' as a synonym of type is deprecated; in a future version of numpy, it will be understood as (type, (1,)) / '(1,)type'.\n",
      "  _np_quint8 = np.dtype([(\"quint8\", np.uint8, 1)])\n",
      "c:\\users\\hoang\\appdata\\local\\programs\\python\\python36\\lib\\site-packages\\tensorflow\\python\\framework\\dtypes.py:471: FutureWarning: Passing (type, 1) or '1type' as a synonym of type is deprecated; in a future version of numpy, it will be understood as (type, (1,)) / '(1,)type'.\n",
      "  _np_qint16 = np.dtype([(\"qint16\", np.int16, 1)])\n",
      "c:\\users\\hoang\\appdata\\local\\programs\\python\\python36\\lib\\site-packages\\tensorflow\\python\\framework\\dtypes.py:472: FutureWarning: Passing (type, 1) or '1type' as a synonym of type is deprecated; in a future version of numpy, it will be understood as (type, (1,)) / '(1,)type'.\n",
      "  _np_quint16 = np.dtype([(\"quint16\", np.uint16, 1)])\n",
      "c:\\users\\hoang\\appdata\\local\\programs\\python\\python36\\lib\\site-packages\\tensorflow\\python\\framework\\dtypes.py:473: FutureWarning: Passing (type, 1) or '1type' as a synonym of type is deprecated; in a future version of numpy, it will be understood as (type, (1,)) / '(1,)type'.\n",
      "  _np_qint32 = np.dtype([(\"qint32\", np.int32, 1)])\n",
      "c:\\users\\hoang\\appdata\\local\\programs\\python\\python36\\lib\\site-packages\\tensorflow\\python\\framework\\dtypes.py:476: FutureWarning: Passing (type, 1) or '1type' as a synonym of type is deprecated; in a future version of numpy, it will be understood as (type, (1,)) / '(1,)type'.\n",
      "  np_resource = np.dtype([(\"resource\", np.ubyte, 1)])\n"
     ]
    },
    {
     "name": "stdout",
     "output_type": "stream",
     "text": [
      "curses is not supported on this machine (please install/reinstall curses for an optimal experience)\n"
     ]
    }
   ],
   "source": [
    "import nltk\n",
    "from nltk.stem.lancaster import LancasterStemmer\n",
    "stemmer = LancasterStemmer()\n",
    "\n",
    "import numpy as np\n",
    "import tflearn\n",
    "import tensorflow as tf\n",
    "import random"
   ]
  },
  {
   "cell_type": "raw",
   "metadata": {},
   "source": [
    "nltk : thư viện xử lý ngôn ngữ tự nhiên \n",
    "LancasterStemmer: kiểu chỉnh các từ vựng "
   ]
  },
  {
   "cell_type": "code",
   "execution_count": 3,
   "metadata": {},
   "outputs": [],
   "source": [
    "import json\n",
    "with open('data/intents.json') as json_data:\n",
    "    intents = json.load(json_data)"
   ]
  },
  {
   "cell_type": "code",
   "execution_count": 4,
   "metadata": {},
   "outputs": [],
   "source": [
    "words = []\n",
    "classes = []\n",
    "documents = []\n",
    "stop_words = ['?', 'a', 'an', 'the']"
   ]
  },
  {
   "cell_type": "code",
   "execution_count": 5,
   "metadata": {},
   "outputs": [],
   "source": [
    "for intent in intents['intents']:\n",
    "    for pattern in intent['patterns']:\n",
    "\n",
    "        w = nltk.word_tokenize(pattern)\n",
    "        words.extend(w)\n",
    "        documents.append((w, intent['tag']))\n",
    "        if intent['tag'] not in classes:\n",
    "            classes.append(intent['tag'])"
   ]
  },
  {
   "cell_type": "code",
   "execution_count": 6,
   "metadata": {},
   "outputs": [
    {
     "data": {
      "text/plain": [
       "['Hi',\n",
       " 'How',\n",
       " 'are',\n",
       " 'you',\n",
       " 'Is',\n",
       " 'anyone',\n",
       " 'there',\n",
       " '?',\n",
       " 'Hello',\n",
       " 'Good',\n",
       " 'day',\n",
       " 'What',\n",
       " 'hours',\n",
       " 'are',\n",
       " 'you',\n",
       " 'open',\n",
       " '?',\n",
       " 'What',\n",
       " 'are',\n",
       " 'your',\n",
       " 'hours',\n",
       " '?',\n",
       " 'When',\n",
       " 'are',\n",
       " 'you',\n",
       " 'open',\n",
       " '?',\n",
       " 'I',\n",
       " 'want',\n",
       " 'to',\n",
       " 'order',\n",
       " 'What',\n",
       " 'kinds',\n",
       " 'of',\n",
       " 'food',\n",
       " 'are',\n",
       " 'there',\n",
       " '?',\n",
       " 'What',\n",
       " 'is',\n",
       " 'your',\n",
       " 'delicous',\n",
       " 'food',\n",
       " '?',\n",
       " 'Do',\n",
       " 'you',\n",
       " 'take',\n",
       " 'credit',\n",
       " 'cards',\n",
       " '?',\n",
       " 'Do',\n",
       " 'you',\n",
       " 'accept',\n",
       " 'Mastercard',\n",
       " '?',\n",
       " 'Are',\n",
       " 'you',\n",
       " 'cash',\n",
       " 'only',\n",
       " '?',\n",
       " 'Are',\n",
       " 'you',\n",
       " 'open',\n",
       " 'today',\n",
       " '?',\n",
       " 'When',\n",
       " 'do',\n",
       " 'you',\n",
       " 'open',\n",
       " 'today',\n",
       " '?',\n",
       " 'What',\n",
       " 'are',\n",
       " 'your',\n",
       " 'hours',\n",
       " 'today',\n",
       " '?',\n",
       " 'that',\n",
       " 'is',\n",
       " 'all',\n",
       " 'Yes',\n",
       " ',',\n",
       " 'we',\n",
       " \"'ll\",\n",
       " 'have',\n",
       " 'the',\n",
       " 'chicken',\n",
       " 'with',\n",
       " 'vegetables',\n",
       " ',',\n",
       " 'and',\n",
       " 'the',\n",
       " 'vegetable',\n",
       " 'pasta',\n",
       " 'please',\n",
       " 'Just',\n",
       " 'some',\n",
       " 'water',\n",
       " 'please',\n",
       " 'Bye',\n",
       " 'See',\n",
       " 'you',\n",
       " 'later',\n",
       " 'Goodbye',\n",
       " 'Thanks',\n",
       " 'Thank',\n",
       " 'you',\n",
       " 'That',\n",
       " \"'s\",\n",
       " 'helpful']"
      ]
     },
     "execution_count": 6,
     "metadata": {},
     "output_type": "execute_result"
    }
   ],
   "source": [
    "words"
   ]
  },
  {
   "cell_type": "code",
   "execution_count": 7,
   "metadata": {},
   "outputs": [
    {
     "data": {
      "text/plain": [
       "[(['Hi'], 'greeting'),\n",
       " (['How', 'are', 'you'], 'greeting'),\n",
       " (['Is', 'anyone', 'there', '?'], 'greeting'),\n",
       " (['Hello'], 'greeting'),\n",
       " (['Good', 'day'], 'greeting'),\n",
       " (['What', 'hours', 'are', 'you', 'open', '?'], 'hours'),\n",
       " (['What', 'are', 'your', 'hours', '?'], 'hours'),\n",
       " (['When', 'are', 'you', 'open', '?'], 'hours'),\n",
       " (['I', 'want', 'to', 'order'], 'menu'),\n",
       " (['What', 'kinds', 'of', 'food', 'are', 'there', '?'], 'menu'),\n",
       " (['What', 'is', 'your', 'delicous', 'food', '?'], 'menu'),\n",
       " (['Do', 'you', 'take', 'credit', 'cards', '?'], 'payments'),\n",
       " (['Do', 'you', 'accept', 'Mastercard', '?'], 'payments'),\n",
       " (['Are', 'you', 'cash', 'only', '?'], 'payments'),\n",
       " (['Are', 'you', 'open', 'today', '?'], 'opentoday'),\n",
       " (['When', 'do', 'you', 'open', 'today', '?'], 'opentoday'),\n",
       " (['What', 'are', 'your', 'hours', 'today', '?'], 'opentoday'),\n",
       " (['that', 'is', 'all'], 'completeorder'),\n",
       " (['Yes',\n",
       "   ',',\n",
       "   'we',\n",
       "   \"'ll\",\n",
       "   'have',\n",
       "   'the',\n",
       "   'chicken',\n",
       "   'with',\n",
       "   'vegetables',\n",
       "   ',',\n",
       "   'and',\n",
       "   'the',\n",
       "   'vegetable',\n",
       "   'pasta',\n",
       "   'please'],\n",
       "  'completeorder'),\n",
       " (['Just', 'some', 'water', 'please'], 'completeorder'),\n",
       " (['Bye'], 'goodbye'),\n",
       " (['See', 'you', 'later'], 'goodbye'),\n",
       " (['Goodbye'], 'goodbye'),\n",
       " (['Thanks'], 'thanks'),\n",
       " (['Thank', 'you'], 'thanks'),\n",
       " (['That', \"'s\", 'helpful'], 'thanks')]"
      ]
     },
     "execution_count": 7,
     "metadata": {},
     "output_type": "execute_result"
    }
   ],
   "source": [
    "documents"
   ]
  },
  {
   "cell_type": "code",
   "execution_count": 8,
   "metadata": {},
   "outputs": [
    {
     "data": {
      "text/plain": [
       "['greeting',\n",
       " 'hours',\n",
       " 'menu',\n",
       " 'payments',\n",
       " 'opentoday',\n",
       " 'completeorder',\n",
       " 'goodbye',\n",
       " 'thanks']"
      ]
     },
     "execution_count": 8,
     "metadata": {},
     "output_type": "execute_result"
    }
   ],
   "source": [
    "classes"
   ]
  },
  {
   "cell_type": "code",
   "execution_count": 9,
   "metadata": {},
   "outputs": [],
   "source": [
    "words = [stemmer.stem(w.lower()) for w in words if w not in stop_words]\n",
    "words = sorted(list(set(words)))"
   ]
  },
  {
   "cell_type": "code",
   "execution_count": 10,
   "metadata": {},
   "outputs": [
    {
     "data": {
      "text/plain": [
       "[\"'ll\",\n",
       " \"'s\",\n",
       " ',',\n",
       " 'acceiv',\n",
       " 'al',\n",
       " 'and',\n",
       " 'anyon',\n",
       " 'ar',\n",
       " 'bye',\n",
       " 'card',\n",
       " 'cash',\n",
       " 'chick',\n",
       " 'credit',\n",
       " 'day',\n",
       " 'del',\n",
       " 'do',\n",
       " 'food',\n",
       " 'good',\n",
       " 'goodby',\n",
       " 'hav',\n",
       " 'hello',\n",
       " 'help',\n",
       " 'hi',\n",
       " 'hour',\n",
       " 'how',\n",
       " 'i',\n",
       " 'is',\n",
       " 'just',\n",
       " 'kind',\n",
       " 'lat',\n",
       " 'mastercard',\n",
       " 'of',\n",
       " 'on',\n",
       " 'op',\n",
       " 'ord',\n",
       " 'past',\n",
       " 'pleas',\n",
       " 'see',\n",
       " 'som',\n",
       " 'tak',\n",
       " 'thank',\n",
       " 'that',\n",
       " 'ther',\n",
       " 'to',\n",
       " 'today',\n",
       " 'veget',\n",
       " 'want',\n",
       " 'wat',\n",
       " 'we',\n",
       " 'what',\n",
       " 'when',\n",
       " 'with',\n",
       " 'ye',\n",
       " 'yo',\n",
       " 'you']"
      ]
     },
     "execution_count": 10,
     "metadata": {},
     "output_type": "execute_result"
    }
   ],
   "source": [
    "words"
   ]
  },
  {
   "cell_type": "code",
   "execution_count": 11,
   "metadata": {},
   "outputs": [],
   "source": [
    "classes = sorted(list(set(classes)))"
   ]
  },
  {
   "cell_type": "code",
   "execution_count": null,
   "metadata": {},
   "outputs": [],
   "source": []
  }
 ],
 "metadata": {
  "kernelspec": {
   "display_name": "Python 3",
   "language": "python",
   "name": "python3"
  },
  "language_info": {
   "codemirror_mode": {
    "name": "ipython",
    "version": 3
   },
   "file_extension": ".py",
   "mimetype": "text/x-python",
   "name": "python",
   "nbconvert_exporter": "python",
   "pygments_lexer": "ipython3",
   "version": "3.6.7"
  }
 },
 "nbformat": 4,
 "nbformat_minor": 4
}
